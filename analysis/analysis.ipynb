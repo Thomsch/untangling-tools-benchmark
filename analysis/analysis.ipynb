{
 "cells": [
  {
   "cell_type": "code",
   "execution_count": 1,
   "metadata": {},
   "outputs": [],
   "source": [
    "import pandas as pd\n",
    "import seaborn as sns"
   ]
  },
  {
   "cell_type": "code",
   "execution_count": 2,
   "metadata": {},
   "outputs": [
    {
     "data": {
      "text/html": [
       "<div>\n",
       "<style scoped>\n",
       "    .dataframe tbody tr th:only-of-type {\n",
       "        vertical-align: middle;\n",
       "    }\n",
       "\n",
       "    .dataframe tbody tr th {\n",
       "        vertical-align: top;\n",
       "    }\n",
       "\n",
       "    .dataframe thead th {\n",
       "        text-align: right;\n",
       "    }\n",
       "</style>\n",
       "<table border=\"1\" class=\"dataframe\">\n",
       "  <thead>\n",
       "    <tr style=\"text-align: right;\">\n",
       "      <th></th>\n",
       "      <th>project</th>\n",
       "      <th>bug_id</th>\n",
       "      <th>smartcommit_rand_index</th>\n",
       "    </tr>\n",
       "  </thead>\n",
       "  <tbody>\n",
       "    <tr>\n",
       "      <th>0</th>\n",
       "      <td>Cli</td>\n",
       "      <td>1</td>\n",
       "      <td>0.511025</td>\n",
       "    </tr>\n",
       "    <tr>\n",
       "      <th>1</th>\n",
       "      <td>Cli</td>\n",
       "      <td>16</td>\n",
       "      <td>0.721893</td>\n",
       "    </tr>\n",
       "    <tr>\n",
       "      <th>2</th>\n",
       "      <td>Cli</td>\n",
       "      <td>17</td>\n",
       "      <td>0.584416</td>\n",
       "    </tr>\n",
       "    <tr>\n",
       "      <th>3</th>\n",
       "      <td>Cli</td>\n",
       "      <td>18</td>\n",
       "      <td>0.567150</td>\n",
       "    </tr>\n",
       "    <tr>\n",
       "      <th>4</th>\n",
       "      <td>Cli</td>\n",
       "      <td>21</td>\n",
       "      <td>0.518012</td>\n",
       "    </tr>\n",
       "  </tbody>\n",
       "</table>\n",
       "</div>"
      ],
      "text/plain": [
       "  project  bug_id  smartcommit_rand_index\n",
       "0     Cli       1                0.511025\n",
       "1     Cli      16                0.721893\n",
       "2     Cli      17                0.584416\n",
       "3     Cli      18                0.567150\n",
       "4     Cli      21                0.518012"
      ]
     },
     "execution_count": 2,
     "metadata": {},
     "output_type": "execute_result"
    }
   ],
   "source": [
    "df_performance = pd.read_csv(\"../out/decompositions.csv\", names=['project', 'bug_id', 'smartcommit_rand_index'])\n",
    "df_performance.head()"
   ]
  },
  {
   "cell_type": "code",
   "execution_count": 3,
   "metadata": {},
   "outputs": [
    {
     "data": {
      "text/html": [
       "<div>\n",
       "<style scoped>\n",
       "    .dataframe tbody tr th:only-of-type {\n",
       "        vertical-align: middle;\n",
       "    }\n",
       "\n",
       "    .dataframe tbody tr th {\n",
       "        vertical-align: top;\n",
       "    }\n",
       "\n",
       "    .dataframe thead th {\n",
       "        text-align: right;\n",
       "    }\n",
       "</style>\n",
       "<table border=\"1\" class=\"dataframe\">\n",
       "  <thead>\n",
       "    <tr style=\"text-align: right;\">\n",
       "      <th></th>\n",
       "      <th>project</th>\n",
       "      <th>bug_id</th>\n",
       "      <th>files_updated</th>\n",
       "      <th>test_files_updated</th>\n",
       "      <th>hunks</th>\n",
       "      <th>average_hunk_size</th>\n",
       "      <th>lines_updated</th>\n",
       "    </tr>\n",
       "  </thead>\n",
       "  <tbody>\n",
       "    <tr>\n",
       "      <th>0</th>\n",
       "      <td>Chart</td>\n",
       "      <td>1</td>\n",
       "      <td>2</td>\n",
       "      <td>0</td>\n",
       "      <td>9</td>\n",
       "      <td>3.666667</td>\n",
       "      <td>33</td>\n",
       "    </tr>\n",
       "    <tr>\n",
       "      <th>1</th>\n",
       "      <td>Cli</td>\n",
       "      <td>1</td>\n",
       "      <td>3</td>\n",
       "      <td>1</td>\n",
       "      <td>19</td>\n",
       "      <td>8.473684</td>\n",
       "      <td>161</td>\n",
       "    </tr>\n",
       "    <tr>\n",
       "      <th>2</th>\n",
       "      <td>Cli</td>\n",
       "      <td>16</td>\n",
       "      <td>6</td>\n",
       "      <td>1</td>\n",
       "      <td>8</td>\n",
       "      <td>21.125000</td>\n",
       "      <td>169</td>\n",
       "    </tr>\n",
       "    <tr>\n",
       "      <th>3</th>\n",
       "      <td>Cli</td>\n",
       "      <td>17</td>\n",
       "      <td>2</td>\n",
       "      <td>1</td>\n",
       "      <td>22</td>\n",
       "      <td>2.545455</td>\n",
       "      <td>56</td>\n",
       "    </tr>\n",
       "    <tr>\n",
       "      <th>4</th>\n",
       "      <td>Cli</td>\n",
       "      <td>18</td>\n",
       "      <td>2</td>\n",
       "      <td>1</td>\n",
       "      <td>9</td>\n",
       "      <td>5.111111</td>\n",
       "      <td>46</td>\n",
       "    </tr>\n",
       "  </tbody>\n",
       "</table>\n",
       "</div>"
      ],
      "text/plain": [
       "  project  bug_id  files_updated  test_files_updated  hunks  \\\n",
       "0   Chart       1              2                   0      9   \n",
       "1     Cli       1              3                   1     19   \n",
       "2     Cli      16              6                   1      8   \n",
       "3     Cli      17              2                   1     22   \n",
       "4     Cli      18              2                   1      9   \n",
       "\n",
       "   average_hunk_size  lines_updated  \n",
       "0           3.666667             33  \n",
       "1           8.473684            161  \n",
       "2          21.125000            169  \n",
       "3           2.545455             56  \n",
       "4           5.111111             46  "
      ]
     },
     "execution_count": 3,
     "metadata": {},
     "output_type": "execute_result"
    }
   ],
   "source": [
    "df_metrics = pd.read_csv(\"../out/metrics.csv\", names=['project', 'bug_id', 'files_updated', 'test_files_updated', 'hunks', 'average_hunk_size', 'lines_updated'])\n",
    "df_metrics.head()"
   ]
  },
  {
   "cell_type": "code",
   "execution_count": 4,
   "metadata": {},
   "outputs": [
    {
     "data": {
      "text/html": [
       "<div>\n",
       "<style scoped>\n",
       "    .dataframe tbody tr th:only-of-type {\n",
       "        vertical-align: middle;\n",
       "    }\n",
       "\n",
       "    .dataframe tbody tr th {\n",
       "        vertical-align: top;\n",
       "    }\n",
       "\n",
       "    .dataframe thead th {\n",
       "        text-align: right;\n",
       "    }\n",
       "</style>\n",
       "<table border=\"1\" class=\"dataframe\">\n",
       "  <thead>\n",
       "    <tr style=\"text-align: right;\">\n",
       "      <th></th>\n",
       "      <th>project</th>\n",
       "      <th>bug_id</th>\n",
       "      <th>smartcommit_rand_index</th>\n",
       "      <th>files_updated</th>\n",
       "      <th>test_files_updated</th>\n",
       "      <th>hunks</th>\n",
       "      <th>average_hunk_size</th>\n",
       "      <th>lines_updated</th>\n",
       "    </tr>\n",
       "  </thead>\n",
       "  <tbody>\n",
       "    <tr>\n",
       "      <th>0</th>\n",
       "      <td>Cli</td>\n",
       "      <td>1</td>\n",
       "      <td>0.511025</td>\n",
       "      <td>3</td>\n",
       "      <td>1</td>\n",
       "      <td>19</td>\n",
       "      <td>8.473684</td>\n",
       "      <td>161</td>\n",
       "    </tr>\n",
       "    <tr>\n",
       "      <th>1</th>\n",
       "      <td>Cli</td>\n",
       "      <td>16</td>\n",
       "      <td>0.721893</td>\n",
       "      <td>6</td>\n",
       "      <td>1</td>\n",
       "      <td>8</td>\n",
       "      <td>21.125000</td>\n",
       "      <td>169</td>\n",
       "    </tr>\n",
       "    <tr>\n",
       "      <th>2</th>\n",
       "      <td>Cli</td>\n",
       "      <td>17</td>\n",
       "      <td>0.584416</td>\n",
       "      <td>2</td>\n",
       "      <td>1</td>\n",
       "      <td>22</td>\n",
       "      <td>2.545455</td>\n",
       "      <td>56</td>\n",
       "    </tr>\n",
       "    <tr>\n",
       "      <th>3</th>\n",
       "      <td>Cli</td>\n",
       "      <td>18</td>\n",
       "      <td>0.567150</td>\n",
       "      <td>2</td>\n",
       "      <td>1</td>\n",
       "      <td>9</td>\n",
       "      <td>5.111111</td>\n",
       "      <td>46</td>\n",
       "    </tr>\n",
       "    <tr>\n",
       "      <th>4</th>\n",
       "      <td>Cli</td>\n",
       "      <td>21</td>\n",
       "      <td>0.518012</td>\n",
       "      <td>4</td>\n",
       "      <td>1</td>\n",
       "      <td>12</td>\n",
       "      <td>13.416667</td>\n",
       "      <td>161</td>\n",
       "    </tr>\n",
       "  </tbody>\n",
       "</table>\n",
       "</div>"
      ],
      "text/plain": [
       "  project  bug_id  smartcommit_rand_index  files_updated  test_files_updated  \\\n",
       "0     Cli       1                0.511025              3                   1   \n",
       "1     Cli      16                0.721893              6                   1   \n",
       "2     Cli      17                0.584416              2                   1   \n",
       "3     Cli      18                0.567150              2                   1   \n",
       "4     Cli      21                0.518012              4                   1   \n",
       "\n",
       "   hunks  average_hunk_size  lines_updated  \n",
       "0     19           8.473684            161  \n",
       "1      8          21.125000            169  \n",
       "2     22           2.545455             56  \n",
       "3      9           5.111111             46  \n",
       "4     12          13.416667            161  "
      ]
     },
     "execution_count": 4,
     "metadata": {},
     "output_type": "execute_result"
    }
   ],
   "source": [
    "df = pd.merge(df_performance, df_metrics,  how='left', on=['project','bug_id'])\n",
    "df.head()"
   ]
  },
  {
   "cell_type": "code",
   "execution_count": 5,
   "metadata": {},
   "outputs": [
    {
     "data": {
      "text/html": [
       "<div>\n",
       "<style scoped>\n",
       "    .dataframe tbody tr th:only-of-type {\n",
       "        vertical-align: middle;\n",
       "    }\n",
       "\n",
       "    .dataframe tbody tr th {\n",
       "        vertical-align: top;\n",
       "    }\n",
       "\n",
       "    .dataframe thead th {\n",
       "        text-align: right;\n",
       "    }\n",
       "</style>\n",
       "<table border=\"1\" class=\"dataframe\">\n",
       "  <thead>\n",
       "    <tr style=\"text-align: right;\">\n",
       "      <th></th>\n",
       "      <th>bug_id</th>\n",
       "      <th>smartcommit_rand_index</th>\n",
       "      <th>files_updated</th>\n",
       "      <th>test_files_updated</th>\n",
       "      <th>hunks</th>\n",
       "      <th>average_hunk_size</th>\n",
       "      <th>lines_updated</th>\n",
       "    </tr>\n",
       "  </thead>\n",
       "  <tbody>\n",
       "    <tr>\n",
       "      <th>count</th>\n",
       "      <td>191.000000</td>\n",
       "      <td>191.000000</td>\n",
       "      <td>191.000000</td>\n",
       "      <td>191.000000</td>\n",
       "      <td>191.000000</td>\n",
       "      <td>191.000000</td>\n",
       "      <td>191.000000</td>\n",
       "    </tr>\n",
       "    <tr>\n",
       "      <th>mean</th>\n",
       "      <td>59.979058</td>\n",
       "      <td>0.648020</td>\n",
       "      <td>5.926702</td>\n",
       "      <td>1.560209</td>\n",
       "      <td>25.073298</td>\n",
       "      <td>10.161512</td>\n",
       "      <td>189.853403</td>\n",
       "    </tr>\n",
       "    <tr>\n",
       "      <th>std</th>\n",
       "      <td>53.599289</td>\n",
       "      <td>0.147671</td>\n",
       "      <td>6.010068</td>\n",
       "      <td>2.378697</td>\n",
       "      <td>26.555897</td>\n",
       "      <td>19.051318</td>\n",
       "      <td>228.481370</td>\n",
       "    </tr>\n",
       "    <tr>\n",
       "      <th>min</th>\n",
       "      <td>1.000000</td>\n",
       "      <td>0.464849</td>\n",
       "      <td>1.000000</td>\n",
       "      <td>0.000000</td>\n",
       "      <td>3.000000</td>\n",
       "      <td>2.166667</td>\n",
       "      <td>37.000000</td>\n",
       "    </tr>\n",
       "    <tr>\n",
       "      <th>25%</th>\n",
       "      <td>17.000000</td>\n",
       "      <td>0.527664</td>\n",
       "      <td>3.000000</td>\n",
       "      <td>1.000000</td>\n",
       "      <td>11.000000</td>\n",
       "      <td>5.094017</td>\n",
       "      <td>81.000000</td>\n",
       "    </tr>\n",
       "    <tr>\n",
       "      <th>50%</th>\n",
       "      <td>36.000000</td>\n",
       "      <td>0.596695</td>\n",
       "      <td>4.000000</td>\n",
       "      <td>1.000000</td>\n",
       "      <td>18.000000</td>\n",
       "      <td>7.297297</td>\n",
       "      <td>121.000000</td>\n",
       "    </tr>\n",
       "    <tr>\n",
       "      <th>75%</th>\n",
       "      <td>93.500000</td>\n",
       "      <td>0.741162</td>\n",
       "      <td>6.000000</td>\n",
       "      <td>2.000000</td>\n",
       "      <td>27.000000</td>\n",
       "      <td>10.330357</td>\n",
       "      <td>193.500000</td>\n",
       "    </tr>\n",
       "    <tr>\n",
       "      <th>max</th>\n",
       "      <td>176.000000</td>\n",
       "      <td>1.000000</td>\n",
       "      <td>51.000000</td>\n",
       "      <td>28.000000</td>\n",
       "      <td>190.000000</td>\n",
       "      <td>258.375000</td>\n",
       "      <td>2067.000000</td>\n",
       "    </tr>\n",
       "  </tbody>\n",
       "</table>\n",
       "</div>"
      ],
      "text/plain": [
       "           bug_id  smartcommit_rand_index  files_updated  test_files_updated  \\\n",
       "count  191.000000              191.000000     191.000000          191.000000   \n",
       "mean    59.979058                0.648020       5.926702            1.560209   \n",
       "std     53.599289                0.147671       6.010068            2.378697   \n",
       "min      1.000000                0.464849       1.000000            0.000000   \n",
       "25%     17.000000                0.527664       3.000000            1.000000   \n",
       "50%     36.000000                0.596695       4.000000            1.000000   \n",
       "75%     93.500000                0.741162       6.000000            2.000000   \n",
       "max    176.000000                1.000000      51.000000           28.000000   \n",
       "\n",
       "            hunks  average_hunk_size  lines_updated  \n",
       "count  191.000000         191.000000     191.000000  \n",
       "mean    25.073298          10.161512     189.853403  \n",
       "std     26.555897          19.051318     228.481370  \n",
       "min      3.000000           2.166667      37.000000  \n",
       "25%     11.000000           5.094017      81.000000  \n",
       "50%     18.000000           7.297297     121.000000  \n",
       "75%     27.000000          10.330357     193.500000  \n",
       "max    190.000000         258.375000    2067.000000  "
      ]
     },
     "execution_count": 5,
     "metadata": {},
     "output_type": "execute_result"
    }
   ],
   "source": [
    "df.describe()"
   ]
  },
  {
   "cell_type": "code",
   "execution_count": 6,
   "metadata": {},
   "outputs": [
    {
     "data": {
      "text/plain": [
       "<seaborn.axisgrid.FacetGrid at 0x7fc26c02e8b0>"
      ]
     },
     "execution_count": 6,
     "metadata": {},
     "output_type": "execute_result"
    },
    {
     "data": {
      "image/png": "[encoded data removed]",
      "text/plain": [
       "<Figure size 360x360 with 1 Axes>"
      ]
     },
     "metadata": {
      "needs_background": "light"
     },
     "output_type": "display_data"
    }
   ],
   "source": [
    "sns.displot(df, x=\"smartcommit_rand_index\")"
   ]
  },
  {
   "cell_type": "code",
   "execution_count": 7,
   "metadata": {},
   "outputs": [
    {
     "data": {
      "text/plain": [
       "[Text(0.5, 1.0, 'Performance vs Lines')]"
      ]
     },
     "execution_count": 7,
     "metadata": {},
     "output_type": "execute_result"
    },
    {
     "data": {
      "image/png": "[encoded data removed]",
      "text/plain": [
       "<Figure size 432x288 with 1 Axes>"
      ]
     },
     "metadata": {
      "needs_background": "light"
     },
     "output_type": "display_data"
    }
   ],
   "source": [
    "sns.scatterplot(df, x=\"lines_updated\", y=\"smartcommit_rand_index\").set(title=\"Performance vs Lines\")"
   ]
  },
  {
   "cell_type": "code",
   "execution_count": 30,
   "metadata": {},
   "outputs": [
    {
     "data": {
      "text/plain": [
       "[Text(0.5, 1.0, 'Performance vs Files')]"
      ]
     },
     "execution_count": 30,
     "metadata": {},
     "output_type": "execute_result"
    },
    {
     "data": {
      "image/png": "[encoded data removed]",
      "text/plain": [
       "<Figure size 432x288 with 1 Axes>"
      ]
     },
     "metadata": {
      "needs_background": "light"
     },
     "output_type": "display_data"
    }
   ],
   "source": [
    "sns.scatterplot(df, x=\"files_updated\", y=\"smartcommit_rand_index\").set(title=\"Performance vs Files\")"
   ]
  },
  {
   "cell_type": "code",
   "execution_count": 15,
   "metadata": {},
   "outputs": [
    {
     "data": {
      "text/plain": [
       "<seaborn.axisgrid.FacetGrid at 0x7fc1976ca100>"
      ]
     },
     "execution_count": 15,
     "metadata": {},
     "output_type": "execute_result"
    },
    {
     "data": {
      "image/png": "[encoded data removed]",
      "text/plain": [
       "<Figure size 360x360 with 1 Axes>"
      ]
     },
     "metadata": {
      "needs_background": "light"
     },
     "output_type": "display_data"
    }
   ],
   "source": [
    "sns.displot(df, x=\"lines_updated\")"
   ]
  },
  {
   "cell_type": "code",
   "execution_count": 18,
   "metadata": {},
   "outputs": [
    {
     "data": {
      "text/plain": [
       "<seaborn.axisgrid.FacetGrid at 0x7fc197c12130>"
      ]
     },
     "execution_count": 18,
     "metadata": {},
     "output_type": "execute_result"
    },
    {
     "data": {
      "image/png": "[encoded data removed]",
      "text/plain": [
       "<Figure size 360x360 with 1 Axes>"
      ]
     },
     "metadata": {
      "needs_background": "light"
     },
     "output_type": "display_data"
    }
   ],
   "source": [
    "sns.displot(df, x=\"files_updated\")"
   ]
  },
  {
   "cell_type": "code",
   "execution_count": 19,
   "metadata": {},
   "outputs": [
    {
     "data": {
      "text/plain": [
       "<seaborn.axisgrid.FacetGrid at 0x7fc197ed93a0>"
      ]
     },
     "execution_count": 19,
     "metadata": {},
     "output_type": "execute_result"
    },
    {
     "data": {
      "image/png": "[encoded data removed]",
      "text/plain": [
       "<Figure size 360x360 with 1 Axes>"
      ]
     },
     "metadata": {
      "needs_background": "light"
     },
     "output_type": "display_data"
    }
   ],
   "source": [
    "sns.displot(df, x=\"test_files_updated\")"
   ]
  },
  {
   "cell_type": "code",
   "execution_count": 20,
   "metadata": {},
   "outputs": [
    {
     "data": {
      "text/plain": [
       "<seaborn.axisgrid.FacetGrid at 0x7fc197e0a910>"
      ]
     },
     "execution_count": 20,
     "metadata": {},
     "output_type": "execute_result"
    },
    {
     "data": {
      "image/png": "[encoded data removed]",
      "text/plain": [
       "<Figure size 360x360 with 1 Axes>"
      ]
     },
     "metadata": {
      "needs_background": "light"
     },
     "output_type": "display_data"
    }
   ],
   "source": [
    "sns.displot(df, x=\"hunks\")"
   ]
  },
  {
   "cell_type": "code",
   "execution_count": 13,
   "metadata": {},
   "outputs": [
    {
     "data": {
      "text/plain": [
       "<AxesSubplot: >"
      ]
     },
     "execution_count": 13,
     "metadata": {},
     "output_type": "execute_result"
    },
    {
     "data": {
      "image/png": "[encoded data removed]",
      "text/plain": [
       "<Figure size 432x288 with 2 Axes>"
      ]
     },
     "metadata": {
      "needs_background": "light"
     },
     "output_type": "display_data"
    }
   ],
   "source": [
    "features = list(['files_updated', 'test_files_updated', 'hunks', 'average_hunk_size', 'lines_updated'])\n",
    "correlation_matrix = df[features].corr(method='pearson')\n",
    "sns.heatmap(correlation_matrix, annot=True)"
   ]
  },
  {
   "cell_type": "code",
   "execution_count": 4,
   "metadata": {},
   "outputs": [
    {
     "data": {
      "text/html": [
       "<div>\n",
       "<style scoped>\n",
       "    .dataframe tbody tr th:only-of-type {\n",
       "        vertical-align: middle;\n",
       "    }\n",
       "\n",
       "    .dataframe tbody tr th {\n",
       "        vertical-align: top;\n",
       "    }\n",
       "\n",
       "    .dataframe thead th {\n",
       "        text-align: right;\n",
       "    }\n",
       "</style>\n",
       "<table border=\"1\" class=\"dataframe\">\n",
       "  <thead>\n",
       "    <tr style=\"text-align: right;\">\n",
       "      <th></th>\n",
       "      <th>project</th>\n",
       "      <th>bug_id</th>\n",
       "      <th>tool</th>\n",
       "      <th>time</th>\n",
       "    </tr>\n",
       "  </thead>\n",
       "  <tbody>\n",
       "    <tr>\n",
       "      <th>0</th>\n",
       "      <td>Codec</td>\n",
       "      <td>10</td>\n",
       "      <td>smartcommit</td>\n",
       "      <td>1.477646</td>\n",
       "    </tr>\n",
       "    <tr>\n",
       "      <th>1</th>\n",
       "      <td>Time</td>\n",
       "      <td>8</td>\n",
       "      <td>smartcommit</td>\n",
       "      <td>2.027742</td>\n",
       "    </tr>\n",
       "    <tr>\n",
       "      <th>2</th>\n",
       "      <td>JacksonDatabind</td>\n",
       "      <td>108</td>\n",
       "      <td>smartcommit</td>\n",
       "      <td>2.528246</td>\n",
       "    </tr>\n",
       "    <tr>\n",
       "      <th>3</th>\n",
       "      <td>JacksonCore</td>\n",
       "      <td>4</td>\n",
       "      <td>smartcommit</td>\n",
       "      <td>1.744646</td>\n",
       "    </tr>\n",
       "    <tr>\n",
       "      <th>4</th>\n",
       "      <td>Closure</td>\n",
       "      <td>18</td>\n",
       "      <td>smartcommit</td>\n",
       "      <td>2.522351</td>\n",
       "    </tr>\n",
       "  </tbody>\n",
       "</table>\n",
       "</div>"
      ],
      "text/plain": [
       "           project  bug_id         tool      time\n",
       "0            Codec      10  smartcommit  1.477646\n",
       "1             Time       8  smartcommit  2.027742\n",
       "2  JacksonDatabind     108  smartcommit  2.528246\n",
       "3      JacksonCore       4  smartcommit  1.744646\n",
       "4          Closure      18  smartcommit  2.522351"
      ]
     },
     "execution_count": 4,
     "metadata": {},
     "output_type": "execute_result"
    }
   ],
   "source": [
    "df_time = pd.read_csv(\"../out/time.csv\", names=['project', 'bug_id', 'tool', 'time'])\n",
    "df_time.head()"
   ]
  },
  {
   "cell_type": "code",
   "execution_count": 8,
   "metadata": {},
   "outputs": [
    {
     "data": {
      "text/html": [
       "<div>\n",
       "<style scoped>\n",
       "    .dataframe tbody tr th:only-of-type {\n",
       "        vertical-align: middle;\n",
       "    }\n",
       "\n",
       "    .dataframe tbody tr th {\n",
       "        vertical-align: top;\n",
       "    }\n",
       "\n",
       "    .dataframe thead th {\n",
       "        text-align: right;\n",
       "    }\n",
       "</style>\n",
       "<table border=\"1\" class=\"dataframe\">\n",
       "  <thead>\n",
       "    <tr style=\"text-align: right;\">\n",
       "      <th></th>\n",
       "      <th>bug_id</th>\n",
       "      <th>time</th>\n",
       "    </tr>\n",
       "    <tr>\n",
       "      <th>tool</th>\n",
       "      <th></th>\n",
       "      <th></th>\n",
       "    </tr>\n",
       "  </thead>\n",
       "  <tbody>\n",
       "    <tr>\n",
       "      <th>smartcommit</th>\n",
       "      <td>44.28</td>\n",
       "      <td>2.388766</td>\n",
       "    </tr>\n",
       "  </tbody>\n",
       "</table>\n",
       "</div>"
      ],
      "text/plain": [
       "             bug_id      time\n",
       "tool                         \n",
       "smartcommit   44.28  2.388766"
      ]
     },
     "execution_count": 8,
     "metadata": {},
     "output_type": "execute_result"
    }
   ],
   "source": [
    "df_time.groupby('tool').mean()"
   ]
  },
  {
   "cell_type": "code",
   "execution_count": 11,
   "metadata": {},
   "outputs": [
    {
     "data": {
      "text/html": [
       "<div>\n",
       "<style scoped>\n",
       "    .dataframe tbody tr th:only-of-type {\n",
       "        vertical-align: middle;\n",
       "    }\n",
       "\n",
       "    .dataframe tbody tr th {\n",
       "        vertical-align: top;\n",
       "    }\n",
       "\n",
       "    .dataframe thead th {\n",
       "        text-align: right;\n",
       "    }\n",
       "</style>\n",
       "<table border=\"1\" class=\"dataframe\">\n",
       "  <thead>\n",
       "    <tr style=\"text-align: right;\">\n",
       "      <th></th>\n",
       "      <th>bug_id</th>\n",
       "      <th>smartcommit_rand_index</th>\n",
       "      <th>files_updated</th>\n",
       "      <th>test_files_updated</th>\n",
       "      <th>hunks</th>\n",
       "      <th>average_hunk_size</th>\n",
       "      <th>lines_updated</th>\n",
       "    </tr>\n",
       "  </thead>\n",
       "  <tbody>\n",
       "    <tr>\n",
       "      <th>count</th>\n",
       "      <td>72.000000</td>\n",
       "      <td>72.000000</td>\n",
       "      <td>72.000000</td>\n",
       "      <td>72.000000</td>\n",
       "      <td>72.000000</td>\n",
       "      <td>72.000000</td>\n",
       "      <td>72.000000</td>\n",
       "    </tr>\n",
       "    <tr>\n",
       "      <th>mean</th>\n",
       "      <td>44.930556</td>\n",
       "      <td>0.733668</td>\n",
       "      <td>3.361111</td>\n",
       "      <td>1.097222</td>\n",
       "      <td>9.472222</td>\n",
       "      <td>7.768721</td>\n",
       "      <td>73.027778</td>\n",
       "    </tr>\n",
       "    <tr>\n",
       "      <th>std</th>\n",
       "      <td>37.093079</td>\n",
       "      <td>0.173499</td>\n",
       "      <td>1.647068</td>\n",
       "      <td>0.734650</td>\n",
       "      <td>10.420689</td>\n",
       "      <td>6.533971</td>\n",
       "      <td>133.146110</td>\n",
       "    </tr>\n",
       "    <tr>\n",
       "      <th>min</th>\n",
       "      <td>1.000000</td>\n",
       "      <td>0.342277</td>\n",
       "      <td>2.000000</td>\n",
       "      <td>0.000000</td>\n",
       "      <td>2.000000</td>\n",
       "      <td>2.000000</td>\n",
       "      <td>6.000000</td>\n",
       "    </tr>\n",
       "    <tr>\n",
       "      <th>25%</th>\n",
       "      <td>15.500000</td>\n",
       "      <td>0.597536</td>\n",
       "      <td>2.000000</td>\n",
       "      <td>1.000000</td>\n",
       "      <td>4.000000</td>\n",
       "      <td>4.041667</td>\n",
       "      <td>22.750000</td>\n",
       "    </tr>\n",
       "    <tr>\n",
       "      <th>50%</th>\n",
       "      <td>35.000000</td>\n",
       "      <td>0.729231</td>\n",
       "      <td>3.000000</td>\n",
       "      <td>1.000000</td>\n",
       "      <td>6.500000</td>\n",
       "      <td>5.897321</td>\n",
       "      <td>40.500000</td>\n",
       "    </tr>\n",
       "    <tr>\n",
       "      <th>75%</th>\n",
       "      <td>70.000000</td>\n",
       "      <td>0.879958</td>\n",
       "      <td>4.000000</td>\n",
       "      <td>1.000000</td>\n",
       "      <td>10.000000</td>\n",
       "      <td>9.083333</td>\n",
       "      <td>79.000000</td>\n",
       "    </tr>\n",
       "    <tr>\n",
       "      <th>max</th>\n",
       "      <td>175.000000</td>\n",
       "      <td>1.000000</td>\n",
       "      <td>11.000000</td>\n",
       "      <td>4.000000</td>\n",
       "      <td>67.000000</td>\n",
       "      <td>40.750000</td>\n",
       "      <td>1084.000000</td>\n",
       "    </tr>\n",
       "  </tbody>\n",
       "</table>\n",
       "</div>"
      ],
      "text/plain": [
       "           bug_id  smartcommit_rand_index  files_updated  test_files_updated  \\\n",
       "count   72.000000               72.000000      72.000000           72.000000   \n",
       "mean    44.930556                0.733668       3.361111            1.097222   \n",
       "std     37.093079                0.173499       1.647068            0.734650   \n",
       "min      1.000000                0.342277       2.000000            0.000000   \n",
       "25%     15.500000                0.597536       2.000000            1.000000   \n",
       "50%     35.000000                0.729231       3.000000            1.000000   \n",
       "75%     70.000000                0.879958       4.000000            1.000000   \n",
       "max    175.000000                1.000000      11.000000            4.000000   \n",
       "\n",
       "           hunks  average_hunk_size  lines_updated  \n",
       "count  72.000000          72.000000      72.000000  \n",
       "mean    9.472222           7.768721      73.027778  \n",
       "std    10.420689           6.533971     133.146110  \n",
       "min     2.000000           2.000000       6.000000  \n",
       "25%     4.000000           4.041667      22.750000  \n",
       "50%     6.500000           5.897321      40.500000  \n",
       "75%    10.000000           9.083333      79.000000  \n",
       "max    67.000000          40.750000    1084.000000  "
      ]
     },
     "execution_count": 11,
     "metadata": {},
     "output_type": "execute_result"
    }
   ],
   "source": [
    "df.describe()"
   ]
  },
  {
   "cell_type": "code",
   "execution_count": 36,
   "metadata": {},
   "outputs": [
    {
     "data": {
      "text/plain": [
       "project\n",
       "Cli                 3\n",
       "Closure            14\n",
       "Codec               4\n",
       "Compress            4\n",
       "Csv                 3\n",
       "Gson                2\n",
       "JacksonCore         1\n",
       "JacksonDatabind    11\n",
       "Jsoup               7\n",
       "Lang                7\n",
       "Math                9\n",
       "Mockito             5\n",
       "Time                2\n",
       "Name: project, dtype: int64"
      ]
     },
     "execution_count": 36,
     "metadata": {},
     "output_type": "execute_result"
    }
   ],
   "source": [
    "df.groupby('project')['project'].count()"
   ]
  },
  {
   "cell_type": "code",
   "execution_count": 13,
   "metadata": {},
   "outputs": [],
   "source": [
    "import statsmodels.api as sm\n",
    "import statsmodels.formula.api as smf"
   ]
  },
  {
   "cell_type": "code",
   "execution_count": 30,
   "metadata": {},
   "outputs": [
    {
     "data": {
      "text/html": [
       "<table class=\"simpletable\">\n",
       "<caption>Generalized Linear Model Regression Results</caption>\n",
       "<tr>\n",
       "  <th>Dep. Variable:</th>   <td>smartcommit_rand_index</td> <th>  No. Observations:  </th>  <td>    72</td> \n",
       "</tr>\n",
       "<tr>\n",
       "  <th>Model:</th>                     <td>GLM</td>          <th>  Df Residuals:      </th>  <td>    54</td> \n",
       "</tr>\n",
       "<tr>\n",
       "  <th>Model Family:</th>           <td>Gaussian</td>        <th>  Df Model:          </th>  <td>    17</td> \n",
       "</tr>\n",
       "<tr>\n",
       "  <th>Link Function:</th>          <td>identity</td>        <th>  Scale:             </th> <td>0.024398</td>\n",
       "</tr>\n",
       "<tr>\n",
       "  <th>Method:</th>                   <td>IRLS</td>          <th>  Log-Likelihood:    </th> <td>  41.870</td>\n",
       "</tr>\n",
       "<tr>\n",
       "  <th>Date:</th>               <td>Thu, 26 Jan 2023</td>    <th>  Deviance:          </th> <td>  1.3175</td>\n",
       "</tr>\n",
       "<tr>\n",
       "  <th>Time:</th>                   <td>15:28:47</td>        <th>  Pearson chi2:      </th>  <td>  1.32</td> \n",
       "</tr>\n",
       "<tr>\n",
       "  <th>No. Iterations:</th>             <td>3</td>           <th>  Pseudo R-squ. (CS):</th>  <td>0.3961</td> \n",
       "</tr>\n",
       "<tr>\n",
       "  <th>Covariance Type:</th>        <td>nonrobust</td>       <th>                     </th>     <td> </td>   \n",
       "</tr>\n",
       "</table>\n",
       "<table class=\"simpletable\">\n",
       "<tr>\n",
       "               <td></td>                 <th>coef</th>     <th>std err</th>      <th>z</th>      <th>P>|z|</th>  <th>[0.025</th>    <th>0.975]</th>  \n",
       "</tr>\n",
       "<tr>\n",
       "  <th>Intercept</th>                  <td>    0.7057</td> <td>    0.117</td> <td>    6.007</td> <td> 0.000</td> <td>    0.475</td> <td>    0.936</td>\n",
       "</tr>\n",
       "<tr>\n",
       "  <th>project[T.Closure]</th>         <td>   -0.0486</td> <td>    0.102</td> <td>   -0.475</td> <td> 0.635</td> <td>   -0.249</td> <td>    0.152</td>\n",
       "</tr>\n",
       "<tr>\n",
       "  <th>project[T.Codec]</th>           <td>    0.0991</td> <td>    0.120</td> <td>    0.826</td> <td> 0.409</td> <td>   -0.136</td> <td>    0.334</td>\n",
       "</tr>\n",
       "<tr>\n",
       "  <th>project[T.Compress]</th>        <td>    0.2025</td> <td>    0.122</td> <td>    1.664</td> <td> 0.096</td> <td>   -0.036</td> <td>    0.441</td>\n",
       "</tr>\n",
       "<tr>\n",
       "  <th>project[T.Csv]</th>             <td>    0.0229</td> <td>    0.130</td> <td>    0.176</td> <td> 0.861</td> <td>   -0.232</td> <td>    0.278</td>\n",
       "</tr>\n",
       "<tr>\n",
       "  <th>project[T.Gson]</th>            <td>    0.0539</td> <td>    0.144</td> <td>    0.375</td> <td> 0.708</td> <td>   -0.228</td> <td>    0.336</td>\n",
       "</tr>\n",
       "<tr>\n",
       "  <th>project[T.JacksonCore]</th>     <td>   -0.0574</td> <td>    0.183</td> <td>   -0.313</td> <td> 0.754</td> <td>   -0.417</td> <td>    0.302</td>\n",
       "</tr>\n",
       "<tr>\n",
       "  <th>project[T.JacksonDatabind]</th> <td>    0.1324</td> <td>    0.104</td> <td>    1.274</td> <td> 0.203</td> <td>   -0.071</td> <td>    0.336</td>\n",
       "</tr>\n",
       "<tr>\n",
       "  <th>project[T.Jsoup]</th>           <td>    0.2487</td> <td>    0.116</td> <td>    2.150</td> <td> 0.032</td> <td>    0.022</td> <td>    0.475</td>\n",
       "</tr>\n",
       "<tr>\n",
       "  <th>project[T.Lang]</th>            <td>    0.1148</td> <td>    0.110</td> <td>    1.044</td> <td> 0.296</td> <td>   -0.101</td> <td>    0.330</td>\n",
       "</tr>\n",
       "<tr>\n",
       "  <th>project[T.Math]</th>            <td>    0.0981</td> <td>    0.106</td> <td>    0.924</td> <td> 0.355</td> <td>   -0.110</td> <td>    0.306</td>\n",
       "</tr>\n",
       "<tr>\n",
       "  <th>project[T.Mockito]</th>         <td>   -0.0378</td> <td>    0.122</td> <td>   -0.311</td> <td> 0.756</td> <td>   -0.276</td> <td>    0.201</td>\n",
       "</tr>\n",
       "<tr>\n",
       "  <th>project[T.Time]</th>            <td>    0.1883</td> <td>    0.150</td> <td>    1.253</td> <td> 0.210</td> <td>   -0.106</td> <td>    0.483</td>\n",
       "</tr>\n",
       "<tr>\n",
       "  <th>files_updated</th>              <td>   -0.0213</td> <td>    0.023</td> <td>   -0.943</td> <td> 0.346</td> <td>   -0.065</td> <td>    0.023</td>\n",
       "</tr>\n",
       "<tr>\n",
       "  <th>test_files_updated</th>         <td>   -0.0033</td> <td>    0.032</td> <td>   -0.101</td> <td> 0.920</td> <td>   -0.067</td> <td>    0.060</td>\n",
       "</tr>\n",
       "<tr>\n",
       "  <th>hunks</th>                      <td>   -0.0037</td> <td>    0.003</td> <td>   -1.314</td> <td> 0.189</td> <td>   -0.009</td> <td>    0.002</td>\n",
       "</tr>\n",
       "<tr>\n",
       "  <th>average_hunk_size</th>          <td>    0.0077</td> <td>    0.004</td> <td>    2.001</td> <td> 0.045</td> <td>    0.000</td> <td>    0.015</td>\n",
       "</tr>\n",
       "<tr>\n",
       "  <th>lines_updated</th>              <td>-8.387e-06</td> <td>    0.000</td> <td>   -0.029</td> <td> 0.977</td> <td>   -0.001</td> <td>    0.001</td>\n",
       "</tr>\n",
       "</table>"
      ],
      "text/plain": [
       "<class 'statsmodels.iolib.summary.Summary'>\n",
       "\"\"\"\n",
       "                   Generalized Linear Model Regression Results                    \n",
       "==================================================================================\n",
       "Dep. Variable:     smartcommit_rand_index   No. Observations:                   72\n",
       "Model:                                GLM   Df Residuals:                       54\n",
       "Model Family:                    Gaussian   Df Model:                           17\n",
       "Link Function:                   identity   Scale:                        0.024398\n",
       "Method:                              IRLS   Log-Likelihood:                 41.870\n",
       "Date:                    Thu, 26 Jan 2023   Deviance:                       1.3175\n",
       "Time:                            15:28:47   Pearson chi2:                     1.32\n",
       "No. Iterations:                         3   Pseudo R-squ. (CS):             0.3961\n",
       "Covariance Type:                nonrobust                                         \n",
       "==============================================================================================\n",
       "                                 coef    std err          z      P>|z|      [0.025      0.975]\n",
       "----------------------------------------------------------------------------------------------\n",
       "Intercept                      0.7057      0.117      6.007      0.000       0.475       0.936\n",
       "project[T.Closure]            -0.0486      0.102     -0.475      0.635      -0.249       0.152\n",
       "project[T.Codec]               0.0991      0.120      0.826      0.409      -0.136       0.334\n",
       "project[T.Compress]            0.2025      0.122      1.664      0.096      -0.036       0.441\n",
       "project[T.Csv]                 0.0229      0.130      0.176      0.861      -0.232       0.278\n",
       "project[T.Gson]                0.0539      0.144      0.375      0.708      -0.228       0.336\n",
       "project[T.JacksonCore]        -0.0574      0.183     -0.313      0.754      -0.417       0.302\n",
       "project[T.JacksonDatabind]     0.1324      0.104      1.274      0.203      -0.071       0.336\n",
       "project[T.Jsoup]               0.2487      0.116      2.150      0.032       0.022       0.475\n",
       "project[T.Lang]                0.1148      0.110      1.044      0.296      -0.101       0.330\n",
       "project[T.Math]                0.0981      0.106      0.924      0.355      -0.110       0.306\n",
       "project[T.Mockito]            -0.0378      0.122     -0.311      0.756      -0.276       0.201\n",
       "project[T.Time]                0.1883      0.150      1.253      0.210      -0.106       0.483\n",
       "files_updated                 -0.0213      0.023     -0.943      0.346      -0.065       0.023\n",
       "test_files_updated            -0.0033      0.032     -0.101      0.920      -0.067       0.060\n",
       "hunks                         -0.0037      0.003     -1.314      0.189      -0.009       0.002\n",
       "average_hunk_size              0.0077      0.004      2.001      0.045       0.000       0.015\n",
       "lines_updated              -8.387e-06      0.000     -0.029      0.977      -0.001       0.001\n",
       "==============================================================================================\n",
       "\"\"\""
      ]
     },
     "execution_count": 30,
     "metadata": {},
     "output_type": "execute_result"
    }
   ],
   "source": [
    "formula = 'smartcommit_rand_index ~ project+files_updated+test_files_updated+hunks+average_hunk_size+lines_updated'\n",
    "model = smf.glm(formula = formula, data=df)\n",
    "result = model.fit()\n",
    "# pd.options.display.max_rows = 4000\n",
    "\n",
    "result.summary()"
   ]
  },
  {
   "cell_type": "code",
   "execution_count": null,
   "metadata": {},
   "outputs": [],
   "source": []
  }
 ],
 "metadata": {
  "kernelspec": {
   "display_name": "Python 3",
   "language": "python",
   "name": "python3"
  },
  "language_info": {
   "codemirror_mode": {
    "name": "ipython",
    "version": 3
   },
   "file_extension": ".py",
   "mimetype": "text/x-python",
   "name": "python",
   "nbconvert_exporter": "python",
   "pygments_lexer": "ipython3",
   "version": "3.9.2"
  },
  "orig_nbformat": 4,
  "vscode": {
   "interpreter": {
    "hash": "aee8b7b246df8f9039afb4144a1f6fd8d2ca17a180786b69acc140d282b71a49"
   }
  }
 },
 "nbformat": 4,
 "nbformat_minor": 2
}
